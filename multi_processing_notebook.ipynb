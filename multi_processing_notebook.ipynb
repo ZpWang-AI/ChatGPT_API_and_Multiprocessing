{
 "cells": [
  {
   "cell_type": "markdown",
   "metadata": {},
   "source": [
    "同为多任务处理模块，多进程与多线程有不同的使用场景和限制，python中也有不同的库来实现。\n",
    "\n",
    "##### 多进程\n",
    "* 使用独立的进程而非线程来运行多个任务，因此更适合用于 CPU 密集型任务，如数值计算、图像处理等需要大量计算资源的场景\n",
    "* 相关库：multiprocessing、mpi4py\n",
    "\n",
    "##### 多线程\n",
    "* 适用于 I/O 密集型任务，如网络请求、文件读写等需要等待 I/O 操作完成的场景\n",
    "* 相关库：threading"
   ]
  },
  {
   "cell_type": "code",
   "execution_count": 1,
   "metadata": {},
   "outputs": [
    {
     "name": "stdout",
     "output_type": "stream",
     "text": [
      "所有进程执行完毕\n"
     ]
    }
   ],
   "source": [
    "# 多进程 multiprocessing\n",
    "# jupyter notebook 中无法使用 multiprocessing，实际效果另见 multi_processing.py\n",
    "\n",
    "import multiprocessing\n",
    "import time\n",
    "import random\n",
    "\n",
    "\n",
    "def worker(num):\n",
    "    \"\"\"进程要执行的任务\"\"\"\n",
    "    print(f\"Worker {num} 开始执行\")\n",
    "    \n",
    "    # 在这里编写具体的任务逻辑\n",
    "    time.sleep(random.random()*3)\n",
    "    \n",
    "    print(f\"Worker {num} 执行结束\")\n",
    "\n",
    "\n",
    "if __name__ == '__main__':\n",
    "    multiprocessing.freeze_support()  # 确保正确启动子进程，避免冲突\n",
    "\n",
    "    # 创建进程列表\n",
    "    processes = []\n",
    "\n",
    "    # 创建并启动多个进程\n",
    "    for i in range(5):\n",
    "        p = multiprocessing.Process(target=worker, args=(i,))\n",
    "        processes.append(p)\n",
    "        p.start()\n",
    "\n",
    "    # 等待所有进程完成\n",
    "    for p in processes:\n",
    "        p.join()\n",
    "\n",
    "    print(\"所有进程执行完毕\")"
   ]
  },
  {
   "cell_type": "code",
   "execution_count": 2,
   "metadata": {},
   "outputs": [
    {
     "name": "stdout",
     "output_type": "stream",
     "text": [
      "Worker 0 开始执行\n",
      "Worker 1 开始执行\n",
      "Worker 2 开始执行\n",
      "Worker 3 开始执行\n",
      "Worker 4 开始执行\n",
      "Worker 2 执行结束\n",
      "Worker 4 执行结束\n",
      "Worker 1 执行结束\n",
      "Worker 0 执行结束\n",
      "Worker 3 执行结束\n",
      "所有线程执行完毕\n"
     ]
    }
   ],
   "source": [
    "# 多线程 threading\n",
    "\n",
    "import threading\n",
    "import time\n",
    "import random\n",
    "\n",
    "\n",
    "def worker(num):\n",
    "    \"\"\"线程要执行的任务\"\"\"\n",
    "    print(f\"Worker {num} 开始执行\")\n",
    "    \n",
    "    # 在这里编写具体的任务逻辑\n",
    "    time.sleep(random.random()*3)\n",
    "\n",
    "    print(f\"Worker {num} 执行结束\")\n",
    "\n",
    "\n",
    "# 创建线程列表\n",
    "threads = []\n",
    "\n",
    "# 创建并启动多个线程\n",
    "for i in range(5):\n",
    "    t = threading.Thread(target=worker, args=(i,))\n",
    "    threads.append(t)\n",
    "    t.start()\n",
    "\n",
    "# 等待所有线程完成\n",
    "for t in threads:\n",
    "    t.join()\n",
    "\n",
    "print(\"所有线程执行完毕\")"
   ]
  },
  {
   "cell_type": "markdown",
   "metadata": {},
   "source": [
    "需要注意的是，多进程（线程）编程可能会带来一些问题，如数据竞争和死锁等。\n",
    "\n",
    "解决方法包括：\n",
    "* 使用锁机制来控制线程的访问顺序。\n",
    "* 使用队列等数据结构来传递数据，避免线程之间直接共享数据。\n",
    "\n",
    "锁的相关应用建议另作专门学习，下例仅供参考。"
   ]
  },
  {
   "cell_type": "code",
   "execution_count": 3,
   "metadata": {},
   "outputs": [],
   "source": [
    "import multiprocessing\n",
    "\n",
    "# 生成锁对象，全局唯一\n",
    "lock = multiprocessing.Lock()\n",
    "\n",
    "# 获取锁。未获取到会阻塞程序，直到获取到锁才会往下执行\n",
    "lock.acquire()\n",
    "\n",
    "# 释放锁，归还锁，其他人可以拿去用了\n",
    "lock.release()"
   ]
  },
  {
   "cell_type": "code",
   "execution_count": 4,
   "metadata": {},
   "outputs": [],
   "source": [
    "import threading\n",
    "\n",
    "# 同上\n",
    "lock = threading.Lock()\n",
    "lock.acquire()\n",
    "lock.release()"
   ]
  }
 ],
 "metadata": {
  "kernelspec": {
   "display_name": "python_main",
   "language": "python",
   "name": "python3"
  },
  "language_info": {
   "codemirror_mode": {
    "name": "ipython",
    "version": 3
   },
   "file_extension": ".py",
   "mimetype": "text/x-python",
   "name": "python",
   "nbconvert_exporter": "python",
   "pygments_lexer": "ipython3",
   "version": "3.10.12"
  },
  "orig_nbformat": 4
 },
 "nbformat": 4,
 "nbformat_minor": 2
}
